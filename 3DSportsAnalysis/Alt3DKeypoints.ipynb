{
 "cells": [
  {
   "cell_type": "code",
   "execution_count": 1,
   "id": "18547ce1",
   "metadata": {},
   "outputs": [],
   "source": [
    "import os\n",
    "import numpy as np\n",
    "import torch\n",
    "from common.model import TemporalModel\n",
    "from common.generators import UnchunkedGenerator\n",
    "from common.camera import normalize_screen_coordinates\n",
    "from common.utils import deterministic_random"
   ]
  },
  {
   "cell_type": "code",
   "execution_count": 2,
   "id": "0bac5c0a",
   "metadata": {},
   "outputs": [],
   "source": [
    "keypoints_path = 'data/custom/Clip21Hit.npz'\n",
    "checkpoint_path = 'checkpoint/pretrained_h36m_detectron_coco.bin'\n",
    "output_keypoints_3d_path = 'outputdir/Clip21Hit3D.npz'"
   ]
  },
  {
   "cell_type": "code",
   "execution_count": 3,
   "id": "9c786c8f",
   "metadata": {},
   "outputs": [],
   "source": [
    "W, H = 1280, 720  # Change this if your video resolution is different\n",
    "checkpoint_path = 'checkpoint/pretrained_h36m_detectron_coco.bin'\n",
    "model = TemporalModel(\n",
    "    num_joints_in=17, in_features=2, num_joints_out=17,\n",
    "    filter_widths=[3, 3, 3, 3, 3],\n",
    "    causal=False, dropout=0.25, channels=1024\n",
    ")"
   ]
  },
  {
   "cell_type": "code",
   "execution_count": 4,
   "id": "2dee611f",
   "metadata": {},
   "outputs": [],
   "source": [
    "checkpoint = torch.load(checkpoint_path, map_location=torch.device('cpu'))\n",
    "model.load_state_dict(checkpoint['model_pos'])\n",
    "model.eval()\n",
    "pad = (model.receptive_field() - 1) // 2"
   ]
  },
  {
   "cell_type": "code",
   "execution_count": 9,
   "id": "b0e8136b",
   "metadata": {},
   "outputs": [],
   "source": [
    "def keypoints3d(videoname):\n",
    "    inputpath=f'data/custom/{videoname}.npz'\n",
    "    outputpath=f'outputdir/{videoname}3D.npz'\n",
    "\n",
    "    keypoints2d=np.load(inputpath)['keypoints']\n",
    "    keypoints2d=normalize_screen_coordinates(keypoints2d,w=W,h=H)\n",
    "    keypoints2d=keypoints2d[np.newaxis, ...]\n",
    "    keypoints2d = np.pad(keypoints2d, ((0, 0), (pad, pad), (0, 0), (0, 0)), mode='edge')\n",
    "    gen = UnchunkedGenerator(None, None, keypoints2d, pad=pad)\n",
    "\n",
    "    with torch.no_grad():\n",
    "        for _, _, batch_2d in gen.next_epoch():\n",
    "            batch_2d = torch.from_numpy(batch_2d).float()\n",
    "            predicted_3d = model(batch_2d).cpu().numpy()  # shape: (1, T, 17, 3)\n",
    "\n",
    "    predicted_3d = predicted_3d[0]\n",
    "    predicted_3d = predicted_3d[pad:-pad]\n",
    "    os.makedirs(os.path.dirname(output_keypoints_3d_path), exist_ok=True)\n",
    "    \n",
    "    np.savez_compressed(outputpath, keypoints_3d=predicted_3d)\n",
    "    print(f\"[✅] Saved 3D keypoints to {outputpath} with shape {predicted_3d.shape}\")"
   ]
  },
  {
   "cell_type": "code",
   "execution_count": 10,
   "id": "a80e1a53",
   "metadata": {},
   "outputs": [
    {
     "name": "stdout",
     "output_type": "stream",
     "text": [
      "[✅] Saved 3D keypoints to outputdir/Clip101Miss3D.npz with shape (31, 17, 3)\n",
      "[✅] Saved 3D keypoints to outputdir/Clip102Miss3D.npz with shape (35, 17, 3)\n",
      "[✅] Saved 3D keypoints to outputdir/Clip103Miss3D.npz with shape (33, 17, 3)\n",
      "[✅] Saved 3D keypoints to outputdir/Clip107Miss3D.npz with shape (30, 17, 3)\n",
      "[✅] Saved 3D keypoints to outputdir/Clip108Miss3D.npz with shape (27, 17, 3)\n",
      "[✅] Saved 3D keypoints to outputdir/Clip109Miss3D.npz with shape (27, 17, 3)\n",
      "[✅] Saved 3D keypoints to outputdir/Clip110Miss3D.npz with shape (40, 17, 3)\n",
      "[✅] Saved 3D keypoints to outputdir/Clip11Hit3D.npz with shape (73, 17, 3)\n",
      "[✅] Saved 3D keypoints to outputdir/Clip12Hit3D.npz with shape (68, 17, 3)\n",
      "[✅] Saved 3D keypoints to outputdir/Clip14Miss3D.npz with shape (68, 17, 3)\n",
      "[✅] Saved 3D keypoints to outputdir/Clip16Hit3D.npz with shape (70, 17, 3)\n",
      "[✅] Saved 3D keypoints to outputdir/Clip17Hit3D.npz with shape (46, 17, 3)\n",
      "[✅] Saved 3D keypoints to outputdir/Clip20Miss3D.npz with shape (78, 17, 3)\n",
      "[✅] Saved 3D keypoints to outputdir/Clip21Hit3D.npz with shape (65, 17, 3)\n",
      "[✅] Saved 3D keypoints to outputdir/Clip22Hit3D.npz with shape (90, 17, 3)\n",
      "[✅] Saved 3D keypoints to outputdir/Clip25Miss3D.npz with shape (50, 17, 3)\n",
      "[✅] Saved 3D keypoints to outputdir/Clip26Hit3D.npz with shape (49, 17, 3)\n",
      "[✅] Saved 3D keypoints to outputdir/Clip27Hit3D.npz with shape (61, 17, 3)\n",
      "[✅] Saved 3D keypoints to outputdir/Clip28Miss3D.npz with shape (58, 17, 3)\n",
      "[✅] Saved 3D keypoints to outputdir/Clip2Hit3D.npz with shape (75, 17, 3)\n",
      "[✅] Saved 3D keypoints to outputdir/Clip30Miss3D.npz with shape (47, 17, 3)\n",
      "[✅] Saved 3D keypoints to outputdir/Clip32Hit3D.npz with shape (86, 17, 3)\n",
      "[✅] Saved 3D keypoints to outputdir/Clip33Hit3D.npz with shape (34, 17, 3)\n",
      "[✅] Saved 3D keypoints to outputdir/Clip35Miss3D.npz with shape (68, 17, 3)\n",
      "[✅] Saved 3D keypoints to outputdir/Clip37Hit3D.npz with shape (66, 17, 3)\n",
      "[✅] Saved 3D keypoints to outputdir/Clip41Hit3D.npz with shape (60, 17, 3)\n",
      "[✅] Saved 3D keypoints to outputdir/Clip43Miss3D.npz with shape (79, 17, 3)\n",
      "[✅] Saved 3D keypoints to outputdir/Clip44Hit3D.npz with shape (42, 17, 3)\n",
      "[✅] Saved 3D keypoints to outputdir/Clip46Hit3D.npz with shape (57, 17, 3)\n",
      "[✅] Saved 3D keypoints to outputdir/Clip4Hit3D.npz with shape (79, 17, 3)\n",
      "[✅] Saved 3D keypoints to outputdir/Clip50Hit3D.npz with shape (56, 17, 3)\n",
      "[✅] Saved 3D keypoints to outputdir/Clip51Hit3D.npz with shape (59, 17, 3)\n",
      "[✅] Saved 3D keypoints to outputdir/Clip53Miss3D.npz with shape (39, 17, 3)\n",
      "[✅] Saved 3D keypoints to outputdir/Clip55Hit3D.npz with shape (68, 17, 3)\n",
      "[✅] Saved 3D keypoints to outputdir/Clip56Hit3D.npz with shape (63, 17, 3)\n",
      "[✅] Saved 3D keypoints to outputdir/Clip57Miss3D.npz with shape (65, 17, 3)\n",
      "[✅] Saved 3D keypoints to outputdir/Clip58Miss3D.npz with shape (54, 17, 3)\n",
      "[✅] Saved 3D keypoints to outputdir/Clip59Miss3D.npz with shape (57, 17, 3)\n",
      "[✅] Saved 3D keypoints to outputdir/Clip60Miss3D.npz with shape (33, 17, 3)\n",
      "[✅] Saved 3D keypoints to outputdir/Clip61Miss3D.npz with shape (50, 17, 3)\n",
      "[✅] Saved 3D keypoints to outputdir/Clip62Hit3D.npz with shape (47, 17, 3)\n",
      "[✅] Saved 3D keypoints to outputdir/Clip64Hit3D.npz with shape (63, 17, 3)\n",
      "[✅] Saved 3D keypoints to outputdir/Clip68Hit3D.npz with shape (61, 17, 3)\n",
      "[✅] Saved 3D keypoints to outputdir/Clip69Miss3D.npz with shape (53, 17, 3)\n",
      "[✅] Saved 3D keypoints to outputdir/Clip70Hit3D.npz with shape (48, 17, 3)\n",
      "[✅] Saved 3D keypoints to outputdir/Clip75Hit3D.npz with shape (49, 17, 3)\n",
      "[✅] Saved 3D keypoints to outputdir/Clip76Hit3D.npz with shape (32, 17, 3)\n",
      "[✅] Saved 3D keypoints to outputdir/Clip77Miss3D.npz with shape (27, 17, 3)\n",
      "[✅] Saved 3D keypoints to outputdir/Clip7Miss3D.npz with shape (59, 17, 3)\n",
      "[✅] Saved 3D keypoints to outputdir/Clip80Hit3D.npz with shape (33, 17, 3)\n",
      "[✅] Saved 3D keypoints to outputdir/Clip81Hit3D.npz with shape (31, 17, 3)\n",
      "[✅] Saved 3D keypoints to outputdir/Clip84Miss3D.npz with shape (39, 17, 3)\n",
      "[✅] Saved 3D keypoints to outputdir/Clip85Hit3D.npz with shape (29, 17, 3)\n",
      "[✅] Saved 3D keypoints to outputdir/Clip86Miss3D.npz with shape (33, 17, 3)\n",
      "[✅] Saved 3D keypoints to outputdir/Clip89Hit3D.npz with shape (36, 17, 3)\n",
      "[✅] Saved 3D keypoints to outputdir/Clip96Miss3D.npz with shape (47, 17, 3)\n",
      "[✅] Saved 3D keypoints to outputdir/Clip97Miss3D.npz with shape (43, 17, 3)\n",
      "[✅] Saved 3D keypoints to outputdir/Clip98Miss3D.npz with shape (38, 17, 3)\n",
      "[✅] Saved 3D keypoints to outputdir/Clip99Miss3D.npz with shape (29, 17, 3)\n",
      "[✅] Saved 3D keypoints to outputdir/Clip9Miss3D.npz with shape (41, 17, 3)\n"
     ]
    }
   ],
   "source": [
    "directory = \"data/custom/\"\n",
    "\n",
    "for filename in os.listdir(directory):\n",
    "    if os.path.isfile(os.path.join(directory, filename)):  # skip folders\n",
    "        videoname = os.path.splitext(filename)[0]\n",
    "        keypoints3d(videoname)"
   ]
  }
 ],
 "metadata": {
  "kernelspec": {
   "display_name": "env",
   "language": "python",
   "name": "python3"
  },
  "language_info": {
   "codemirror_mode": {
    "name": "ipython",
    "version": 3
   },
   "file_extension": ".py",
   "mimetype": "text/x-python",
   "name": "python",
   "nbconvert_exporter": "python",
   "pygments_lexer": "ipython3",
   "version": "3.9.13"
  }
 },
 "nbformat": 4,
 "nbformat_minor": 5
}
