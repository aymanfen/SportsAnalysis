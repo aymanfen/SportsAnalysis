{
 "cells": [
  {
   "cell_type": "code",
   "execution_count": 16,
   "id": "13efd86a",
   "metadata": {},
   "outputs": [
    {
     "name": "stdout",
     "output_type": "stream",
     "text": [
      "Using device: cpu\n"
     ]
    }
   ],
   "source": [
    "import torch\n",
    "import torch.nn as nn\n",
    "import torch.optim as optim\n",
    "import torch.nn.functional as F\n",
    "from torch.utils.data import Dataset, DataLoader\n",
    "\n",
    "import cv2\n",
    "import numpy as np\n",
    "import os\n",
    "import glob\n",
    "from tqdm import tqdm\n",
    "\n",
    "# Set device\n",
    "device = torch.device('cuda' if torch.cuda.is_available() else 'cpu')\n",
    "print(f\"Using device: {device}\")"
   ]
  },
  {
   "cell_type": "code",
   "execution_count": 17,
   "id": "0e4ec578",
   "metadata": {},
   "outputs": [],
   "source": [
    "# Simple configuration\n",
    "video_dir = './SportsData/'\n",
    "frame_size = (128, 128)  \n",
    "sequence_length = 10      \n",
    "frame_skip = 2       \n",
    "batch_size = 16       \n",
    "num_epochs = 10        \n",
    "learning_rate = 0.001\n"
   ]
  },
  {
   "cell_type": "code",
   "execution_count": 18,
   "id": "296dcaeb",
   "metadata": {},
   "outputs": [],
   "source": [
    "class SimpleBasketballDataset(Dataset):\n",
    "    def __init__(self, video_dir, frame_size, sequence_length, frame_skip):\n",
    "        self.video_dir = video_dir\n",
    "        self.frame_size = frame_size\n",
    "        self.sequence_length = sequence_length\n",
    "        self.frame_skip = frame_skip\n",
    "        \n",
    "        # Get video files\n",
    "        self.video_files = []\n",
    "        for ext in ['*.mp4', '*.avi', '*.mov']:\n",
    "            self.video_files.extend(glob.glob(os.path.join(video_dir, ext)))\n",
    "        \n",
    "        # Get labels from filenames\n",
    "        self.labels = []\n",
    "        valid_videos = []\n",
    "        \n",
    "        for video_path in self.video_files:\n",
    "            filename = os.path.basename(video_path).lower()\n",
    "            if 'hit' in filename:\n",
    "                self.labels.append(1)\n",
    "                valid_videos.append(video_path)\n",
    "            elif 'miss' in filename:\n",
    "                self.labels.append(0)\n",
    "                valid_videos.append(video_path)\n",
    "        \n",
    "        self.video_files = valid_videos\n",
    "        print(f\"Found {len(self.video_files)} videos\")\n",
    "        print(f\"Hit: {sum(self.labels)}, Miss: {len(self.labels) - sum(self.labels)}\")\n",
    "    \n",
    "    def __len__(self):\n",
    "        return len(self.video_files)\n",
    "    \n",
    "    def __getitem__(self, idx):\n",
    "        video_path = self.video_files[idx]\n",
    "        label = self.labels[idx]\n",
    "        frames = self.extract_frames(video_path)\n",
    "        return frames, label\n",
    "    \n",
    "    def extract_frames(self, video_path):\n",
    "        cap = cv2.VideoCapture(video_path)\n",
    "        frames = []\n",
    "        frame_count = 0\n",
    "        \n",
    "        while True:\n",
    "            ret, frame = cap.read()\n",
    "            if not ret:\n",
    "                break\n",
    "            \n",
    "            if frame_count % self.frame_skip == 0:\n",
    "                frame = cv2.resize(frame, self.frame_size)\n",
    "                frame = cv2.cvtColor(frame, cv2.COLOR_BGR2RGB)\n",
    "                frames.append(frame)\n",
    "            \n",
    "            frame_count += 1\n",
    "        \n",
    "        cap.release()\n",
    "        \n",
    "        # Handle sequence length\n",
    "        if len(frames) >= self.sequence_length:\n",
    "            frames = frames[:self.sequence_length]\n",
    "        else:\n",
    "            while len(frames) < self.sequence_length:\n",
    "                frames.append(frames[-1] if frames else np.zeros((*self.frame_size, 3)))\n",
    "        \n",
    "        # Convert to tensor\n",
    "        frames = np.array(frames, dtype=np.float32) / 255.0\n",
    "        frames = np.transpose(frames, (3, 0, 1, 2))  # (C, T, H, W)\n",
    "        \n",
    "        return torch.FloatTensor(frames)"
   ]
  },
  {
   "cell_type": "code",
   "execution_count": 19,
   "id": "7010bd04",
   "metadata": {},
   "outputs": [
    {
     "name": "stdout",
     "output_type": "stream",
     "text": [
      "Found 90 videos\n",
      "Hit: 71, Miss: 19\n",
      "Training samples: 62\n",
      "Testing samples: 28\n"
     ]
    }
   ],
   "source": [
    "# Create dataset\n",
    "dataset = SimpleBasketballDataset(video_dir, frame_size, sequence_length, frame_skip)\n",
    "\n",
    "# Simple train/test split\n",
    "total_size = len(dataset)\n",
    "train_size = int(0.7 * total_size)\n",
    "test_size = total_size - train_size\n",
    "\n",
    "train_dataset, test_dataset = torch.utils.data.random_split(dataset, [train_size, test_size])\n",
    "\n",
    "print(f\"Training samples: {len(train_dataset)}\")\n",
    "print(f\"Testing samples: {len(test_dataset)}\")\n",
    "\n",
    "train_loader = DataLoader(train_dataset, batch_size=batch_size, shuffle=True)\n",
    "test_loader = DataLoader(test_dataset, batch_size=1, shuffle=False)"
   ]
  },
  {
   "cell_type": "code",
   "execution_count": 20,
   "id": "0bd1f761",
   "metadata": {},
   "outputs": [],
   "source": [
    "class Simple3DCNN(nn.Module):\n",
    "    def __init__(self, input_shape=(3, 8, 112, 112)):\n",
    "        super(Simple3DCNN, self).__init__()\n",
    "        \n",
    "        # 3D convolutions\n",
    "        self.conv1 = nn.Conv3d(3, 32, kernel_size=(3, 3, 3), padding=1)\n",
    "        self.pool1 = nn.MaxPool3d(kernel_size=(1, 2, 2))\n",
    "        \n",
    "        self.conv2 = nn.Conv3d(32, 64, kernel_size=(3, 3, 3), padding=1)\n",
    "        self.pool2 = nn.MaxPool3d(kernel_size=(2, 2, 2))\n",
    "        \n",
    "        self.conv3 = nn.Conv3d(64, 128, kernel_size=(3, 3, 3), padding=1)\n",
    "        self.pool3 = nn.MaxPool3d(kernel_size=(2, 2, 2))\n",
    "        \n",
    "        # Calculate the size after convolutions\n",
    "        self.feature_size = self._get_conv_output_size(input_shape)\n",
    "        \n",
    "        # Fully connected layers\n",
    "        self.fc1 = nn.Linear(self.feature_size, 256)\n",
    "        self.fc2 = nn.Linear(256, 2)  # 2 classes: Hit or Miss\n",
    "        \n",
    "    def _get_conv_output_size(self, input_shape):\n",
    "        # Create a dummy input to calculate output size\n",
    "        dummy_input = torch.zeros(1, *input_shape)\n",
    "        with torch.no_grad():\n",
    "            x = F.relu(self.conv1(dummy_input))\n",
    "            x = self.pool1(x)\n",
    "            x = F.relu(self.conv2(x))\n",
    "            x = self.pool2(x)\n",
    "            x = F.relu(self.conv3(x))\n",
    "            x = self.pool3(x)\n",
    "            return x.view(1, -1).size(1)\n",
    "        \n",
    "    def forward(self, x):\n",
    "        # 3D convolutions\n",
    "        x = F.relu(self.conv1(x))\n",
    "        x = self.pool1(x)\n",
    "        \n",
    "        x = F.relu(self.conv2(x))\n",
    "        x = self.pool2(x)\n",
    "        \n",
    "        x = F.relu(self.conv3(x))\n",
    "        x = self.pool3(x)\n",
    "        \n",
    "        # Flatten and fully connected\n",
    "        x = x.view(x.size(0), -1)\n",
    "        x = F.relu(self.fc1(x))\n",
    "        x = self.fc2(x)\n",
    "        \n",
    "        return x\n"
   ]
  },
  {
   "cell_type": "code",
   "execution_count": 21,
   "id": "ee73a9c7",
   "metadata": {},
   "outputs": [],
   "source": [
    "input_shape = (3, sequence_length, frame_size[0], frame_size[1])\n",
    "model = Simple3DCNN(input_shape).to(device)\n",
    "criterion = nn.CrossEntropyLoss()\n",
    "optimizer = optim.Adam(model.parameters(), lr=learning_rate)"
   ]
  },
  {
   "cell_type": "code",
   "execution_count": 22,
   "id": "84b70618",
   "metadata": {},
   "outputs": [
    {
     "name": "stderr",
     "output_type": "stream",
     "text": [
      "Epoch 1: 100%|██████████| 4/4 [00:45<00:00, 11.27s/it]\n"
     ]
    },
    {
     "name": "stdout",
     "output_type": "stream",
     "text": [
      "Epoch 1: Loss = 0.8804, Accuracy = 61.29%\n"
     ]
    },
    {
     "name": "stderr",
     "output_type": "stream",
     "text": [
      "Epoch 2: 100%|██████████| 4/4 [00:45<00:00, 11.39s/it]\n"
     ]
    },
    {
     "name": "stdout",
     "output_type": "stream",
     "text": [
      "Epoch 2: Loss = 0.5460, Accuracy = 80.65%\n"
     ]
    },
    {
     "name": "stderr",
     "output_type": "stream",
     "text": [
      "Epoch 3: 100%|██████████| 4/4 [00:46<00:00, 11.74s/it]\n"
     ]
    },
    {
     "name": "stdout",
     "output_type": "stream",
     "text": [
      "Epoch 3: Loss = 0.4982, Accuracy = 80.65%\n"
     ]
    },
    {
     "name": "stderr",
     "output_type": "stream",
     "text": [
      "Epoch 4: 100%|██████████| 4/4 [00:47<00:00, 11.99s/it]\n"
     ]
    },
    {
     "name": "stdout",
     "output_type": "stream",
     "text": [
      "Epoch 4: Loss = 0.5059, Accuracy = 80.65%\n"
     ]
    },
    {
     "name": "stderr",
     "output_type": "stream",
     "text": [
      "Epoch 5: 100%|██████████| 4/4 [00:46<00:00, 11.60s/it]\n"
     ]
    },
    {
     "name": "stdout",
     "output_type": "stream",
     "text": [
      "Epoch 5: Loss = 0.4880, Accuracy = 80.65%\n"
     ]
    },
    {
     "name": "stderr",
     "output_type": "stream",
     "text": [
      "Epoch 6: 100%|██████████| 4/4 [00:52<00:00, 13.21s/it]\n"
     ]
    },
    {
     "name": "stdout",
     "output_type": "stream",
     "text": [
      "Epoch 6: Loss = 0.4708, Accuracy = 80.65%\n"
     ]
    },
    {
     "name": "stderr",
     "output_type": "stream",
     "text": [
      "Epoch 7: 100%|██████████| 4/4 [00:50<00:00, 12.72s/it]\n"
     ]
    },
    {
     "name": "stdout",
     "output_type": "stream",
     "text": [
      "Epoch 7: Loss = 0.4672, Accuracy = 80.65%\n"
     ]
    },
    {
     "name": "stderr",
     "output_type": "stream",
     "text": [
      "Epoch 8: 100%|██████████| 4/4 [00:49<00:00, 12.33s/it]\n"
     ]
    },
    {
     "name": "stdout",
     "output_type": "stream",
     "text": [
      "Epoch 8: Loss = 0.4583, Accuracy = 80.65%\n"
     ]
    },
    {
     "name": "stderr",
     "output_type": "stream",
     "text": [
      "Epoch 9: 100%|██████████| 4/4 [00:43<00:00, 10.78s/it]\n"
     ]
    },
    {
     "name": "stdout",
     "output_type": "stream",
     "text": [
      "Epoch 9: Loss = 0.4456, Accuracy = 80.65%\n"
     ]
    },
    {
     "name": "stderr",
     "output_type": "stream",
     "text": [
      "Epoch 10: 100%|██████████| 4/4 [00:42<00:00, 10.73s/it]"
     ]
    },
    {
     "name": "stdout",
     "output_type": "stream",
     "text": [
      "Epoch 10: Loss = 0.4255, Accuracy = 80.65%\n"
     ]
    },
    {
     "name": "stderr",
     "output_type": "stream",
     "text": [
      "\n"
     ]
    }
   ],
   "source": [
    "for epoch in range(num_epochs):\n",
    "    model.train()\n",
    "    total_loss = 0\n",
    "    correct = 0\n",
    "    total = 0\n",
    "    \n",
    "    for batch_idx, (data, targets) in enumerate(tqdm(train_loader, desc=f'Epoch {epoch+1}')):\n",
    "        data, targets = data.to(device), targets.to(device)\n",
    "        \n",
    "        # Forward pass\n",
    "        optimizer.zero_grad()\n",
    "        outputs = model(data)\n",
    "        loss = criterion(outputs, targets)\n",
    "        \n",
    "        # Backward pass\n",
    "        loss.backward()\n",
    "        optimizer.step()\n",
    "        \n",
    "        # Statistics\n",
    "        total_loss += loss.item()\n",
    "        _, predicted = torch.max(outputs.data, 1)\n",
    "        total += targets.size(0)\n",
    "        correct += (predicted == targets).sum().item()\n",
    "    \n",
    "    # Print epoch results\n",
    "    avg_loss = total_loss / len(train_loader)\n",
    "    accuracy = 100. * correct / total\n",
    "    print(f'Epoch {epoch+1}: Loss = {avg_loss:.4f}, Accuracy = {accuracy:.2f}%')\n"
   ]
  },
  {
   "cell_type": "code",
   "execution_count": 24,
   "id": "e32f0cf9",
   "metadata": {},
   "outputs": [
    {
     "name": "stderr",
     "output_type": "stream",
     "text": [
      "100%|██████████| 28/28 [00:15<00:00,  1.84it/s]"
     ]
    },
    {
     "name": "stdout",
     "output_type": "stream",
     "text": [
      "Test Accuracy: 75.00%\n"
     ]
    },
    {
     "name": "stderr",
     "output_type": "stream",
     "text": [
      "\n"
     ]
    }
   ],
   "source": [
    "model.eval()\n",
    "test_correct = 0\n",
    "test_total = 0\n",
    "all_predictions = []\n",
    "all_targets = []\n",
    "\n",
    "with torch.no_grad():\n",
    "    for data, targets in tqdm(test_loader):\n",
    "        data, targets = data.to(device), targets.to(device)\n",
    "        \n",
    "        outputs = model(data)\n",
    "        _, predicted = torch.max(outputs.data, 1)\n",
    "        \n",
    "        test_total += targets.size(0)\n",
    "        test_correct += (predicted == targets).sum().item()\n",
    "        \n",
    "        all_predictions.extend(predicted.cpu().numpy())\n",
    "        all_targets.extend(targets.cpu().numpy())\n",
    "\n",
    "test_accuracy = 100. * test_correct / test_total\n",
    "print(f'Test Accuracy: {test_accuracy:.2f}%')"
   ]
  }
 ],
 "metadata": {
  "kernelspec": {
   "display_name": "Python 3",
   "language": "python",
   "name": "python3"
  },
  "language_info": {
   "codemirror_mode": {
    "name": "ipython",
    "version": 3
   },
   "file_extension": ".py",
   "mimetype": "text/x-python",
   "name": "python",
   "nbconvert_exporter": "python",
   "pygments_lexer": "ipython3",
   "version": "3.9.13"
  }
 },
 "nbformat": 4,
 "nbformat_minor": 5
}
