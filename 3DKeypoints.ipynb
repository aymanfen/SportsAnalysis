{
 "cells": [
  {
   "cell_type": "code",
   "execution_count": 1,
   "id": "766f8612",
   "metadata": {},
   "outputs": [],
   "source": [
    "import os\n",
    "import numpy as np\n",
    "import torch\n",
    "from common.model import TemporalModel\n",
    "from common.generators import UnchunkedGenerator\n",
    "from common.camera import normalize_screen_coordinates, image_coordinates, camera_to_world\n",
    "from common.visualization import render_animation\n",
    "from common.skeleton import Skeleton\n",
    "from common.utils import deterministic_random"
   ]
  },
  {
   "cell_type": "code",
   "execution_count": 45,
   "id": "8d8fdd27",
   "metadata": {},
   "outputs": [],
   "source": [
    "video_path = 'inputdir/Clip14Miss.mp4'\n",
    "keypoints_path = 'data/custom/Clip14Miss.npz'\n",
    "output_keypoints_3d_path = 'outputdir/Clip14Miss3D.npz'\n",
    "checkpoint_path = 'checkpoint/pretrained_h36m_detectron_coco.bin'"
   ]
  },
  {
   "cell_type": "code",
   "execution_count": 46,
   "id": "96c244ba",
   "metadata": {},
   "outputs": [],
   "source": [
    "metadata = {\n",
    "    'layout_name': 'coco',\n",
    "    'num_joints': 17,\n",
    "    'keypoints_symmetry': ([1,3,5,7,9,11,13,15], [2,4,6,8,10,12,14,16])\n",
    "}"
   ]
  },
  {
   "cell_type": "code",
   "execution_count": 47,
   "id": "745f9bbf",
   "metadata": {},
   "outputs": [
    {
     "name": "stdout",
     "output_type": "stream",
     "text": [
      "(68, 17, 2)\n"
     ]
    }
   ],
   "source": [
    "keypoints_data = np.load(keypoints_path, allow_pickle=True)\n",
    "keypoints = keypoints_data['keypoints'] # (1, T, 17, 2)\n",
    "print(keypoints.shape)\n",
    "keypoints = keypoints.astype('float32')\n"
   ]
  },
  {
   "cell_type": "code",
   "execution_count": 48,
   "id": "ba5bb416",
   "metadata": {},
   "outputs": [],
   "source": [
    "W, H = 1280, 720  # Update if your video resolution is different\n",
    "keypoints[0] = normalize_screen_coordinates(keypoints[0], w=W, h=H)"
   ]
  },
  {
   "cell_type": "code",
   "execution_count": 49,
   "id": "1f9abb1c",
   "metadata": {},
   "outputs": [],
   "source": [
    "model = TemporalModel(\n",
    "    num_joints_in=17, in_features=2, num_joints_out=17,\n",
    "    filter_widths=[3, 3, 3, 3, 3],\n",
    "    causal=False, dropout=0.25, channels=1024\n",
    ")"
   ]
  },
  {
   "cell_type": "code",
   "execution_count": 50,
   "id": "8d50c22a",
   "metadata": {},
   "outputs": [
    {
     "data": {
      "text/plain": [
       "TemporalModel(\n",
       "  (drop): Dropout(p=0.25, inplace=False)\n",
       "  (relu): ReLU(inplace=True)\n",
       "  (expand_bn): BatchNorm1d(1024, eps=1e-05, momentum=0.1, affine=True, track_running_stats=True)\n",
       "  (shrink): Conv1d(1024, 51, kernel_size=(1,), stride=(1,))\n",
       "  (expand_conv): Conv1d(34, 1024, kernel_size=(3,), stride=(1,), bias=False)\n",
       "  (layers_conv): ModuleList(\n",
       "    (0): Conv1d(1024, 1024, kernel_size=(3,), stride=(1,), dilation=(3,), bias=False)\n",
       "    (1): Conv1d(1024, 1024, kernel_size=(1,), stride=(1,), bias=False)\n",
       "    (2): Conv1d(1024, 1024, kernel_size=(3,), stride=(1,), dilation=(9,), bias=False)\n",
       "    (3): Conv1d(1024, 1024, kernel_size=(1,), stride=(1,), bias=False)\n",
       "    (4): Conv1d(1024, 1024, kernel_size=(3,), stride=(1,), dilation=(27,), bias=False)\n",
       "    (5): Conv1d(1024, 1024, kernel_size=(1,), stride=(1,), bias=False)\n",
       "    (6): Conv1d(1024, 1024, kernel_size=(3,), stride=(1,), dilation=(81,), bias=False)\n",
       "    (7): Conv1d(1024, 1024, kernel_size=(1,), stride=(1,), bias=False)\n",
       "  )\n",
       "  (layers_bn): ModuleList(\n",
       "    (0-7): 8 x BatchNorm1d(1024, eps=1e-05, momentum=0.1, affine=True, track_running_stats=True)\n",
       "  )\n",
       ")"
      ]
     },
     "execution_count": 50,
     "metadata": {},
     "output_type": "execute_result"
    }
   ],
   "source": [
    "checkpoint = torch.load(checkpoint_path, map_location=torch.device('cpu'))\n",
    "model.load_state_dict(checkpoint['model_pos'])\n",
    "model.eval()"
   ]
  },
  {
   "cell_type": "code",
   "execution_count": 51,
   "id": "3840d0fe",
   "metadata": {},
   "outputs": [
    {
     "data": {
      "text/plain": [
       "(310, 17, 3)"
      ]
     },
     "execution_count": 51,
     "metadata": {},
     "output_type": "execute_result"
    }
   ],
   "source": [
    "pad = (model.receptive_field() - 1) // 2\n",
    "inputs_2d = [np.pad(keypoints, ((pad, pad), (0, 0), (0, 0)), mode='edge')]\n",
    "\n",
    "gen = UnchunkedGenerator(None, None, inputs_2d, pad=pad)\n",
    "\n",
    "for _,_,batch_2d in gen.next_epoch():\n",
    "    batch_2d=torch.from_numpy(batch_2d).float()\n",
    "    predicted_3d = model(batch_2d)[0].detach().numpy()\n",
    "\n",
    "predicted_3d -= predicted_3d[:, :1, :]  # Root-relative\n",
    "predicted_3d.shape"
   ]
  },
  {
   "cell_type": "code",
   "execution_count": 52,
   "id": "163b88eb",
   "metadata": {},
   "outputs": [
    {
     "name": "stdout",
     "output_type": "stream",
     "text": [
      "[✅] Saved 3D keypoints to outputdir/Clip14Miss3D.npz\n"
     ]
    }
   ],
   "source": [
    "np.savez_compressed(output_keypoints_3d_path, keypoints_3d=predicted_3d)\n",
    "print(f\"[✅] Saved 3D keypoints to {output_keypoints_3d_path}\")\n"
   ]
  }
 ],
 "metadata": {
  "kernelspec": {
   "display_name": "env",
   "language": "python",
   "name": "python3"
  },
  "language_info": {
   "codemirror_mode": {
    "name": "ipython",
    "version": 3
   },
   "file_extension": ".py",
   "mimetype": "text/x-python",
   "name": "python",
   "nbconvert_exporter": "python",
   "pygments_lexer": "ipython3",
   "version": "3.9.13"
  }
 },
 "nbformat": 4,
 "nbformat_minor": 5
}
